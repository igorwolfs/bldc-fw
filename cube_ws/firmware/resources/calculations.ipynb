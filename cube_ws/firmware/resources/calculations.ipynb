{
 "cells": [
  {
   "cell_type": "markdown",
   "metadata": {},
   "source": [
    "## Speed calculation"
   ]
  },
  {
   "cell_type": "code",
   "execution_count": 69,
   "metadata": {},
   "outputs": [
    {
     "name": "stdout",
     "output_type": "stream",
     "text": [
      "K_FACTOR: 937500.0\n",
      "K_FACTOR: 117187.5\n",
      "adc range: [(14.305333028152896 rpm), (9.375000e+05 rpm)]\n",
      "rpm-range: [(1.788166628519112 rpm), (1.171875e+05 rpm)]\n"
     ]
    }
   ],
   "source": [
    "### VAR DECLARES\n",
    "timer_clk = 48e6\n",
    "pole_pairs = 4\n",
    "max_tim_count = 65535\n",
    "n_control_steps = 6\n",
    "prescaler = 127\n",
    "\n",
    "### CALCULATION\n",
    "k_factor =  (60 * timer_clk / (n_control_steps * pole_pairs * (prescaler+1)) )\n",
    "print(f\"K_FACTOR: {k_factor}\")\n",
    "max_adc_speed = k_factor\n",
    "min_adc_speed = k_factor/(max_tim_count)\n",
    "\n",
    "### ADC measurements\n",
    "k_factor = k_factor / 8 # Same timer\n",
    "print(f\"K_FACTOR: {k_factor}\")\n",
    "max_mech_speed = k_factor\n",
    "min_mech_speed = k_factor/(max_tim_count)\n",
    "\n",
    "print(f\"adc range: [({min_adc_speed} rpm), ({max_adc_speed:4e} rpm)]\")\n",
    "print(f\"rpm-range: [({min_mech_speed} rpm), ({max_mech_speed:4e} rpm)]\")\n"
   ]
  },
  {
   "cell_type": "code",
   "execution_count": null,
   "metadata": {},
   "outputs": [],
   "source": []
  },
  {
   "cell_type": "markdown",
   "metadata": {},
   "source": []
  }
 ],
 "metadata": {
  "kernelspec": {
   "display_name": "Python 3",
   "language": "python",
   "name": "python3"
  },
  "language_info": {
   "codemirror_mode": {
    "name": "ipython",
    "version": 3
   },
   "file_extension": ".py",
   "mimetype": "text/x-python",
   "name": "python",
   "nbconvert_exporter": "python",
   "pygments_lexer": "ipython3",
   "version": "3.12.3"
  }
 },
 "nbformat": 4,
 "nbformat_minor": 2
}
