{
 "cells": [
  {
   "cell_type": "markdown",
   "metadata": {},
   "source": [
    "## Speed calculation"
   ]
  },
  {
   "cell_type": "code",
   "execution_count": 64,
   "metadata": {},
   "outputs": [
    {
     "name": "stdout",
     "output_type": "stream",
     "text": [
      "adc_period: 8.333333333333334e-08 s, 0.00546125 s.\n",
      "elec_period: 4.000000000000001e-06 s, 0.26214000000000004 s.\n",
      "mech_period: 1.6000000000000003e-05 s. 1.0485600000000002 s\n",
      "mech_rps: 62499.99999999999 RPS, 0.9536888685435262 RPS\n",
      "mech_rpm: 3749999.9999999995 RPM, 57.22133211261157 RPM\n",
      "FACTOR: 1.6000000000000003e-05, INVFACTOR 62499.99999999999\n"
     ]
    }
   ],
   "source": [
    "### VAR DECLARES\n",
    "timer_clk = 48e6\n",
    "pole_pairs = 4\n",
    "max_tim_count = 65535\n",
    "n_control_steps = 6\n",
    "adc_measurements = 8\n",
    "prescaler = 3\n",
    "\n",
    "### CALCULATION\n",
    "\n",
    "timer_period = 1 / (timer_clk)\n",
    "adc_period_min = timer_period * (prescaler+1)\n",
    "adc_period_max = max_tim_count * adc_period_min\n",
    "print(f\"adc_period: {adc_period_min} s, {adc_period_max} s.\")\n",
    "elec_period_scaled_min = adc_period_min * n_control_steps * adc_measurements\n",
    "elec_period_scaled_max = max_tim_count * elec_period_scaled_min\n",
    "print(f\"elec_period: {elec_period_scaled_min} s, {elec_period_scaled_max} s.\") \n",
    "mech_period_scaled_min = elec_period_scaled_min * pole_pairs\n",
    "mech_period_scaled_max = mech_period_scaled_min * max_tim_count\n",
    "print(f\"mech_period: {mech_period_scaled_min} s. {mech_period_scaled_max} s\")\n",
    "print(f\"mech_rps: {1/mech_period_scaled_min} RPS, {1/mech_period_scaled_max} RPS\")\n",
    "print(f\"mech_rpm: {60/mech_period_scaled_min} RPM, {60/mech_period_scaled_max} RPM\")\n",
    "print(f\"FACTOR: {mech_period_scaled_min}, INVFACTOR {1/mech_period_scaled_min}\")\n",
    "\n",
    "\n",
    "\n",
    "# So (60/mech_period_scaled_min) * (timer_count_set) = RPM\n",
    "# So (RPM / 60) * mech_period_scaled_min = timer_count_set"
   ]
  },
  {
   "cell_type": "code",
   "execution_count": 17,
   "metadata": {},
   "outputs": [
    {
     "name": "stdout",
     "output_type": "stream",
     "text": [
      "Ticks: 1875.0 ADC: 0.0003125\n",
      "Factor: 1874999.9999999998\n",
      "Timer_ticks_f: 1874.9999999999998\n"
     ]
    }
   ],
   "source": [
    "RPM_mech = 1000\n",
    "NPP = 4; N_STEPS = 6; N_ADC_STEPS = 8; PRE=7; CLK=48e6; CLK_SCALED = CLK / (PRE+1)\n",
    "SPR_mech = 60 / RPM_mech\n",
    "SPR_elec = SPR_mech / NPP # 4 pole-pairs\n",
    "SPR_inv = SPR_elec / N_STEPS # 6 step-inverter period\n",
    "ADC_period = SPR_inv  / N_ADC_STEPS # 8 adc steps for each inverter action\n",
    "Timer_ticks = ADC_period / (1/CLK_SCALED) # Divided by timer period\n",
    "print(f\"Ticks: {Timer_ticks} ADC: {ADC_period}\")\n",
    "factor = 60 / (NPP * N_STEPS * N_ADC_STEPS * (1/CLK_SCALED))\n",
    "print(f\"Factor: {factor}\")\n",
    "Timer_ticks_f = factor / RPM_mech\n",
    "print(f\"Timer_ticks_f: {Timer_ticks_f}\")"
   ]
  },
  {
   "cell_type": "markdown",
   "metadata": {},
   "source": []
  }
 ],
 "metadata": {
  "kernelspec": {
   "display_name": "Python 3",
   "language": "python",
   "name": "python3"
  },
  "language_info": {
   "codemirror_mode": {
    "name": "ipython",
    "version": 3
   },
   "file_extension": ".py",
   "mimetype": "text/x-python",
   "name": "python",
   "nbconvert_exporter": "python",
   "pygments_lexer": "ipython3",
   "version": "3.12.3"
  }
 },
 "nbformat": 4,
 "nbformat_minor": 2
}
